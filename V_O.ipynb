{
 "cells": [
  {
   "cell_type": "markdown",
   "metadata": {},
   "source": [
    "Most existing approaches to visual odometry are based on the following stages.\n",
    "\n",
    "1. Acquire input images\n",
    "2. Image correction: apply image processing techniques for lens distortion removal, etc.\n",
    "3. Feature detection: define interest operators, and match features across frames and construct optical flow field.\n",
    "       \n",
    "4. Check flow field vectors for potential tracking errors and remove outliers.\n",
    "5. Estimation of the camera motion from the optical flow.\n",
    "       \n",
    "6. Periodic repopulation of trackpoints to maintain coverage across the image."
   ]
  },
  {
   "cell_type": "code",
   "execution_count": 4,
   "metadata": {
    "collapsed": true
   },
   "outputs": [],
   "source": [
    "################################Testing################################"
   ]
  },
  {
   "cell_type": "code",
   "execution_count": 1,
   "metadata": {
    "collapsed": false
   },
   "outputs": [
    {
     "name": "stdout",
     "output_type": "stream",
     "text": [
      "ox loaded.\n"
     ]
    }
   ],
   "source": [
    "################################Oxford Dataset################################\n",
    "%run robotcar-sdk/python/camera_model.py\n",
    "from skimage.io import imread_collection\n",
    "\n",
    "#oxford(ox) setup\n",
    "models_dir = 'robotcar-sdk/models'\n",
    "ox_img_dir = 'oxford_2014-05-14-13-50-20/stereo/left/'\n",
    "ox_cam = CameraModel(models_dir,ox_img_dir)\n",
    "ox_imgs = imread_collection(ox_img_dir+'*.png', conserve_memory = True)\n",
    "# ox_imgs = np.array(ox_imgs)\n",
    "print \"ox loaded.\""
   ]
  },
  {
   "cell_type": "code",
   "execution_count": 2,
   "metadata": {
    "collapsed": false
   },
   "outputs": [
    {
     "name": "stdout",
     "output_type": "stream",
     "text": [
      "kitti loaded.\n"
     ]
    }
   ],
   "source": [
    "################################KITTI Dataset################################\n",
    "#adapted from https://github.com/uoip/monoVO-python \n",
    "%run pinhole_camera.py\n",
    "\n",
    "##kitti setup\n",
    "poses_dir = 'dataset/poses/00.txt' #for ground truth\n",
    "img_dir = 'dataset/sequences/00/image_0/'\n",
    "cam = PinholeCamera(1241.0, 376.0, 718.8560, 718.8560, 607.1928, 185.2157)\n",
    "print \"kitti loaded.\""
   ]
  },
  {
   "cell_type": "code",
   "execution_count": null,
   "metadata": {
    "collapsed": false
   },
   "outputs": [],
   "source": [
    "vo = VisualOdometry(cam, poses_dir)\n",
    "\n",
    "# ox_vo = VisualOdometry(ox_cam, poses_dir)\n",
    "\n",
    "traj = np.zeros((600,600,3), dtype=np.uint8)\n",
    "\n",
    "#drawing trajectories for each image\n",
    "for img_id in xrange(10000):\n",
    "    img = cv2.imread(img_dir+str(img_id).zfill(6)+'.png', 0)\n",
    "    \n",
    "    vo.update(img, img_id)\n",
    "\n",
    "    cur_t = vo.cur_t\n",
    "    if(img_id > 2): x, y, z = cur_t[0], cur_t[1], cur_t[2]\n",
    "    else: x, y, z = 0., 0., 0.\n",
    "        \n",
    "    #offset so the 2 trajectories do not overlap\n",
    "    x_offset, y_offset = 0, 0\n",
    "    draw_x, draw_y = int(x)+(290-x_offset), int(z)+(90-y_offset)\n",
    "    true_x, true_y = int(vo.trueX)+290, int(vo.trueZ)+90\n",
    "\n",
    "    #predicted trajectory\n",
    "    cv2.circle(traj, (draw_x,draw_y), 1, (img_id*255/4540,255-img_id*255/4540,0), 1)\n",
    "    #actual trajectory\n",
    "    cv2.circle(traj, (true_x,true_y), 1, (0,0,255), 1)\n",
    "    \n",
    "    cv2.rectangle(traj, (10, 20), (600, 60), (0,0,0), -1)\n",
    "    text = \"Coordinates: x=%2fm y=%2fm z=%2fm\"%(x,y,z)\n",
    "    cv2.putText(traj, text, (20,40), cv2.FONT_HERSHEY_PLAIN, 1, (255,255,255), 1, 8)\n",
    "\n",
    "    cv2.imshow('Road facing camera', img)\n",
    "    cv2.imshow('Trajectory', traj)\n",
    "    cv2.waitKey(1)\n",
    "\n",
    "cv2.imwrite('map.png', traj)\n",
    "cv2.destroyAllWindows()\n",
    "cv2.waitKey(1)"
   ]
  },
  {
   "cell_type": "code",
   "execution_count": null,
   "metadata": {
    "collapsed": true
   },
   "outputs": [],
   "source": [
    "##########################Adapting Existing Code################################"
   ]
  },
  {
   "cell_type": "code",
   "execution_count": null,
   "metadata": {
    "collapsed": false
   },
   "outputs": [],
   "source": [
    "%run pinhole_camera.py\n",
    "import cv2\n",
    "#adapted from https://github.com/avisingh599/mono-vo\n",
    "def feautre_tracking(img1, img2, points1, points2, status):\n",
    "    errs = []\n",
    "    #lucas kanade(lk) optical flow parameters\n",
    "    lk_params = dict(winSize  = (21, 21), \n",
    "                criteria = (cv2.TERM_CRITERIA_EPS | cv2.TERM_CRITERIA_COUNT, 30, 0.01))\n",
    "    \n",
    "    #open cv method for generating LK optical flow\n",
    "    #shape: [k,2] [k,1] [k,1]\n",
    "    cv2.calcOpticalFlowPyrLK(img1, img2, points1, points2, status, errs, **lk_params)\n",
    "    \n",
    "    #removing points for which the tracking has failed/gone outside the frame\n",
    "    indexCorrection = 0\n",
    "    for i in range(len(status)):\n",
    "        pt = points2[i-indexCorrection]\n",
    "        if(status[0] == 0 or (pt[0]<0 or pt[1]<0)):\n",
    "            if(pt[0]<0 or pt[1]<0):\n",
    "                status[i]=0\n",
    "            del points1[i-indexCorrection]\n",
    "            del points2[i-indexCorrection]           \n",
    "            indexCorrection+=1\n",
    "    \n",
    "#      calcOpticalFlowPyrLK(img_1, img_2, points1, points2, status, err, winSize, 3, termcrit, 0, 0.001);\n",
    "\n",
    "def feature_detection(img1, points1):\n",
    "    key_points = []\n",
    "    threshold_value = 20\n",
    "    nonMax = True\n",
    "    key_points = cv2.FastFeatureDetector_create(threshold=threshold_value, nonmaxSuppression=nonMax)\n",
    "    \n",
    "##kitti setup\n",
    "poses_dir = 'dataset/poses/00.txt' #for ground truth\n",
    "img_dir = 'dataset/sequences/00/image_0/'\n",
    "cam = PinholeCamera(1241.0, 376.0, 718.8560, 718.8560, 607.1928, 185.2157)"
   ]
  }
 ],
 "metadata": {
  "anaconda-cloud": {},
  "kernelspec": {
   "display_name": "Python [conda root]",
   "language": "python",
   "name": "conda-root-py"
  },
  "language_info": {
   "codemirror_mode": {
    "name": "ipython",
    "version": 2
   },
   "file_extension": ".py",
   "mimetype": "text/x-python",
   "name": "python",
   "nbconvert_exporter": "python",
   "pygments_lexer": "ipython2",
   "version": "2.7.12"
  }
 },
 "nbformat": 4,
 "nbformat_minor": 1
}
