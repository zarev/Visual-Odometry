{
 "cells": [
  {
   "cell_type": "markdown",
   "metadata": {
    "nbpresent": {
     "id": "4ed37447-9388-4083-ba03-34e3c460e623"
    }
   },
   "source": [
    "Most existing approaches to visual odometry are based on the following stages.\n",
    "\n",
    "1. Acquire input images\n",
    "2. Image correction: apply image processing techniques for lens distortion removal, etc.\n",
    "3. Feature detection: define interest operators, and match features across frames and construct optical flow field.\n",
    "        3.1. Use correlation to establish correspondence of two images.\n",
    "        3.2. Feature extraction and correlation\n",
    "        3.3. Construct optical flow field (Lucas–Kanade method).\n",
    "4. Check flow field vectors for potential tracking errors and remove outliers.[7]\n",
    "5. Estimation of the camera motion from the optical flow.[8][9][10][11]\n",
    "        Choice 1: Kalman filter for state estimate distribution maintenance.\n",
    "        Choice 2: find the geometric and 3D properties of the features that minimize a cost function based on the re-projection error between two adjacent images. This can be done by mathematical minimization or random sampling.\n",
    "6. Periodic repopulation of trackpoints to maintain coverage across the image."
   ]
  },
  {
   "cell_type": "code",
   "execution_count": 1,
   "metadata": {
    "collapsed": false,
    "nbpresent": {
     "id": "d024b0a2-93b6-4817-bb3c-2edeec0375e0"
    }
   },
   "outputs": [],
   "source": [
    "import numpy as np \n",
    "import cv2\n",
    "\n",
    "STAGE_FIRST_FRAME = 0\n",
    "STAGE_SECOND_FRAME = 1\n",
    "STAGE_DEFAULT_FRAME = 2\n",
    "kMinNumFeature = 1500\n",
    "\n",
    "#lucas kanade(lk) optical flow\n",
    "lk_params = dict(winSize  = (21, 21), \n",
    "                criteria = (cv2.TERM_CRITERIA_EPS | cv2.TERM_CRITERIA_COUNT, 30, 0.01))\n",
    "\n",
    "def featureTracking(image_ref, image_cur, px_ref):\n",
    "    kp2, st, err = cv2.calcOpticalFlowPyrLK(image_ref, image_cur, px_ref, None, **lk_params)  #shape: [k,2] [k,1] [k,1]\n",
    "\n",
    "    st = st.reshape(st.shape[0])\n",
    "    kp1 = px_ref[st == 1]\n",
    "    kp2 = kp2[st == 1]\n",
    "\n",
    "    return kp1, kp2\n",
    "\n",
    "\n",
    "class PinholeCamera:\n",
    "    #fx, fy: focal lengths expressed as pixel units\n",
    "    #cx, cy: image principle points\n",
    "    #source: https://goo.gl/6LPrcX \n",
    "    def __init__(self, width, height, fx, fy, cx, cy, \n",
    "                k1=0.0, k2=0.0, p1=0.0, p2=0.0, k3=0.0):\n",
    "        self.width = width\n",
    "        self.height = height\n",
    "        self.fx = fx\n",
    "        self.fy = fy\n",
    "        self.cx = cx\n",
    "        self.cy = cy\n",
    "        self.distortion = (abs(k1) > 0.0000001)\n",
    "        self.d = [k1, k2, p1, p2, k3]\n",
    "\n",
    "\n",
    "class VisualOdometry:\n",
    "    def __init__(self, cam, annotations):\n",
    "        self.frame_stage = 0\n",
    "        self.cam = cam\n",
    "        self.new_frame, self.last_frame = None, None\n",
    "        self.cur_R, self.cur_t = None, None\n",
    "        self.px_ref = None\n",
    "        self.px_cur = None\n",
    "        self.focal = cam.fx\n",
    "        self.pp = (cam.cx, cam.cy)\n",
    "        self.trueX, self.trueY, self.trueZ = 0, 0, 0\n",
    "        self.detector = cv2.FastFeatureDetector_create(threshold=25, nonmaxSuppression=True)\n",
    "        with open(annotations) as f:\n",
    "            self.annotations = f.readlines()\n",
    "\n",
    "    def getAbsoluteScale(self, frame_id):  #specialized for KITTI odometry dataset\n",
    "        ss = self.annotations[frame_id-1].strip().split()\n",
    "        x_prev = float(ss[3])\n",
    "        y_prev = float(ss[7])\n",
    "        z_prev = float(ss[11])\n",
    "        ss = self.annotations[frame_id].strip().split()\n",
    "        x = float(ss[3])\n",
    "        y = float(ss[7])\n",
    "        z = float(ss[11])\n",
    "        self.trueX, self.trueY, self.trueZ = x, y, z\n",
    "        return np.sqrt((x - x_prev)*(x - x_prev) + (y - y_prev)*(y - y_prev) + (z - z_prev)*(z - z_prev))\n",
    "\n",
    "    def processFirstFrame(self):\n",
    "        self.px_ref = self.detector.detect(self.new_frame)\n",
    "        self.px_ref = np.array([x.pt for x in self.px_ref], dtype=np.float32)\n",
    "        self.frame_stage = STAGE_SECOND_FRAME\n",
    "\n",
    "    def processSecondFrame(self):\n",
    "        self.px_ref, self.px_cur = featureTracking(self.last_frame, self.new_frame, self.px_ref)\n",
    "        E, mask = cv2.findEssentialMat(self.px_cur, self.px_ref, focal=self.focal, pp=self.pp, method=cv2.RANSAC, prob=0.999, threshold=1.0)\n",
    "        _, self.cur_R, self.cur_t, mask = cv2.recoverPose(E, self.px_cur, self.px_ref, focal=self.focal, pp = self.pp)\n",
    "        self.frame_stage = STAGE_DEFAULT_FRAME \n",
    "        self.px_ref = self.px_cur\n",
    "\n",
    "    def processFrame(self, frame_id):\n",
    "        self.px_ref, self.px_cur = featureTracking(self.last_frame, self.new_frame, self.px_ref)\n",
    "        E, mask = cv2.findEssentialMat(self.px_cur, self.px_ref, focal=self.focal, pp=self.pp, method=cv2.RANSAC, prob=0.999, threshold=1.0)\n",
    "        _, R, t, mask = cv2.recoverPose(E, self.px_cur, self.px_ref, focal=self.focal, pp = self.pp)\n",
    "        absolute_scale = self.getAbsoluteScale(frame_id)\n",
    "        if(absolute_scale > 0.1):\n",
    "            self.cur_t = self.cur_t + absolute_scale*self.cur_R.dot(t) \n",
    "            self.cur_R = R.dot(self.cur_R)\n",
    "        if(self.px_ref.shape[0] < kMinNumFeature):\n",
    "            self.px_cur = self.detector.detect(self.new_frame)\n",
    "            self.px_cur = np.array([x.pt for x in self.px_cur], dtype=np.float32)\n",
    "        self.px_ref = self.px_cur\n",
    "\n",
    "    def update(self, img, frame_id):\n",
    "        assert(img.ndim==2 and img.shape[0]==self.cam.height and img.shape[1]==self.cam.width), \"Frame: provided image has not the same size as the camera model or image is not grayscale\"\n",
    "        self.new_frame = img\n",
    "        if(self.frame_stage == STAGE_DEFAULT_FRAME):\n",
    "            self.processFrame(frame_id)\n",
    "        elif(self.frame_stage == STAGE_SECOND_FRAME):\n",
    "            self.processSecondFrame()\n",
    "        elif(self.frame_stage == STAGE_FIRST_FRAME):\n",
    "            self.processFirstFrame()\n",
    "        self.last_frame = self.new_frame"
   ]
  },
  {
   "cell_type": "code",
   "execution_count": 10,
   "metadata": {
    "collapsed": true
   },
   "outputs": [],
   "source": [
    "################################Testing################################"
   ]
  },
  {
   "cell_type": "code",
   "execution_count": 3,
   "metadata": {
    "collapsed": false
   },
   "outputs": [
    {
     "data": {
      "text/plain": [
       "-1"
      ]
     },
     "execution_count": 3,
     "metadata": {},
     "output_type": "execute_result"
    }
   ],
   "source": [
    "%run pinhole_camera.py\n",
    "\n",
    "## defining directories\n",
    "poses_dir = 'dataset/poses/00.txt' #for ground truth\n",
    "img_dir = 'dataset/sequences/00/image_0/'\n",
    "\n",
    "cam = PinholeCamera(1241.0, 376.0, 718.8560, 718.8560, 607.1928, 185.2157)\n",
    "vo = VisualOdometry(cam, poses_dir)\n",
    "\n",
    "traj = np.zeros((600,600,3), dtype=np.uint8)\n",
    "\n",
    "#drawing trajectories for each image\n",
    "for img_id in xrange(10):\n",
    "    img = cv2.imread(img_dir+str(img_id).zfill(6)+'.png', 0)\n",
    "    \n",
    "    vo.update(img, img_id)\n",
    "\n",
    "    cur_t = vo.cur_t\n",
    "    if(img_id > 2): x, y, z = cur_t[0], cur_t[1], cur_t[2]\n",
    "    else: x, y, z = 0., 0., 0.\n",
    "        \n",
    "    #offset so the 2 trajectories do not overlap\n",
    "    x_offset = 0\n",
    "    y_offset = 0\n",
    "    draw_x, draw_y = int(x)+(290-x_offset), int(z)+(90-y_offset)\n",
    "    true_x, true_y = int(vo.trueX)+290, int(vo.trueZ)+90\n",
    "\n",
    "    #predicted trajectory\n",
    "    cv2.circle(traj, (draw_x,draw_y), 1, (img_id*255/4540,255-img_id*255/4540,0), 1)\n",
    "    #actual trajectory\n",
    "    cv2.circle(traj, (true_x,true_y), 1, (0,0,255), 1)\n",
    "    cv2.rectangle(traj, (10, 20), (600, 60), (0,0,0), -1)\n",
    "    text = \"Coordinates: x=%2fm y=%2fm z=%2fm\"%(x,y,z)\n",
    "    cv2.putText(traj, text, (20,40), cv2.FONT_HERSHEY_PLAIN, 1, (255,255,255), 1, 8)\n",
    "\n",
    "#     cv2.imshow('Road facing camera', img)\n",
    "#     cv2.imshow('Trajectory', traj)\n",
    "    cv2.waitKey(1)\n",
    "\n",
    "\n",
    "cv2.imwrite('map.png', traj)\n",
    "cv2.destroyAllWindows()\n",
    "cv2.waitKey(1)"
   ]
  }
 ],
 "metadata": {
  "anaconda-cloud": {},
  "kernelspec": {
   "display_name": "Python [conda root]",
   "language": "python",
   "name": "conda-root-py"
  },
  "language_info": {
   "codemirror_mode": {
    "name": "ipython",
    "version": 2
   },
   "file_extension": ".py",
   "mimetype": "text/x-python",
   "name": "python",
   "nbconvert_exporter": "python",
   "pygments_lexer": "ipython2",
   "version": "2.7.12"
  }
 },
 "nbformat": 4,
 "nbformat_minor": 1
}
