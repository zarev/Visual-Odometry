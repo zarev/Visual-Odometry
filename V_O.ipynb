{
 "cells": [
  {
   "cell_type": "markdown",
   "metadata": {
    "nbpresent": {
     "id": "4ed37447-9388-4083-ba03-34e3c460e623"
    }
   },
   "source": [
    "Most existing approaches to visual odometry are based on the following stages.\n",
    "\n",
    "1. Acquire input images\n",
    "2. Image correction: apply image processing techniques for lens distortion removal, etc.\n",
    "3. Feature detection: define interest operators, and match features across frames and construct optical flow field.\n",
    "        3.1. Use correlation to establish correspondence of two images.\n",
    "        3.2. Feature extraction and correlation\n",
    "        3.3. Construct optical flow field (Lucas–Kanade method).\n",
    "4. Check flow field vectors for potential tracking errors and remove outliers.[7]\n",
    "5. Estimation of the camera motion from the optical flow.[8][9][10][11]\n",
    "        Choice 1: Kalman filter for state estimate distribution maintenance.\n",
    "        Choice 2: find the geometric and 3D properties of the features that minimize a cost function based on the re-projection error between two adjacent images. This can be done by mathematical minimization or random sampling.\n",
    "6. Periodic repopulation of trackpoints to maintain coverage across the image."
   ]
  },
  {
   "cell_type": "code",
   "execution_count": 10,
   "metadata": {
    "collapsed": true
   },
   "outputs": [],
   "source": [
    "################################Testing################################"
   ]
  },
  {
   "cell_type": "code",
   "execution_count": 3,
   "metadata": {
    "collapsed": false
   },
   "outputs": [
    {
     "data": {
      "text/plain": [
       "-1"
      ]
     },
     "execution_count": 3,
     "metadata": {},
     "output_type": "execute_result"
    }
   ],
   "source": [
    "%run pinhole_camera.py\n",
    "\n",
    "## defining directories\n",
    "poses_dir = 'dataset/poses/00.txt' #for ground truth\n",
    "img_dir = 'dataset/sequences/00/image_0/'\n",
    "\n",
    "cam = PinholeCamera(1241.0, 376.0, 718.8560, 718.8560, 607.1928, 185.2157)\n",
    "vo = VisualOdometry(cam, poses_dir)\n",
    "\n",
    "traj = np.zeros((600,600,3), dtype=np.uint8)\n",
    "\n",
    "#drawing trajectories for each image\n",
    "for img_id in xrange(10):\n",
    "    img = cv2.imread(img_dir+str(img_id).zfill(6)+'.png', 0)\n",
    "    \n",
    "    vo.update(img, img_id)\n",
    "\n",
    "    cur_t = vo.cur_t\n",
    "    if(img_id > 2): x, y, z = cur_t[0], cur_t[1], cur_t[2]\n",
    "    else: x, y, z = 0., 0., 0.\n",
    "        \n",
    "    #offset so the 2 trajectories do not overlap\n",
    "    x_offset = 0\n",
    "    y_offset = 0\n",
    "    draw_x, draw_y = int(x)+(290-x_offset), int(z)+(90-y_offset)\n",
    "    true_x, true_y = int(vo.trueX)+290, int(vo.trueZ)+90\n",
    "\n",
    "    #predicted trajectory\n",
    "    cv2.circle(traj, (draw_x,draw_y), 1, (img_id*255/4540,255-img_id*255/4540,0), 1)\n",
    "    #actual trajectory\n",
    "    cv2.circle(traj, (true_x,true_y), 1, (0,0,255), 1)\n",
    "    cv2.rectangle(traj, (10, 20), (600, 60), (0,0,0), -1)\n",
    "    text = \"Coordinates: x=%2fm y=%2fm z=%2fm\"%(x,y,z)\n",
    "    cv2.putText(traj, text, (20,40), cv2.FONT_HERSHEY_PLAIN, 1, (255,255,255), 1, 8)\n",
    "\n",
    "#     cv2.imshow('Road facing camera', img)\n",
    "#     cv2.imshow('Trajectory', traj)\n",
    "    cv2.waitKey(1)\n",
    "\n",
    "\n",
    "cv2.imwrite('map.png', traj)\n",
    "cv2.destroyAllWindows()\n",
    "cv2.waitKey(1)"
   ]
  }
 ],
 "metadata": {
  "anaconda-cloud": {},
  "kernelspec": {
   "display_name": "Python [conda root]",
   "language": "python",
   "name": "conda-root-py"
  },
  "language_info": {
   "codemirror_mode": {
    "name": "ipython",
    "version": 2
   },
   "file_extension": ".py",
   "mimetype": "text/x-python",
   "name": "python",
   "nbconvert_exporter": "python",
   "pygments_lexer": "ipython2",
   "version": "2.7.12"
  }
 },
 "nbformat": 4,
 "nbformat_minor": 1
}
