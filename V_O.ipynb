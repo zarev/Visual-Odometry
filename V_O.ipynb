{
 "cells": [
  {
   "cell_type": "markdown",
   "metadata": {},
   "source": [
    "Most existing approaches to visual odometry are based on the following stages.\n",
    "\n",
    "1. Acquire input images\n",
    "2. Image correction: apply image processing techniques for lens distortion removal, etc.\n",
    "3. Feature detection: define interest operators, and match features across frames and construct optical flow field.\n",
    "       \n",
    "4. Check flow field vectors for potential tracking errors and remove outliers.\n",
    "5. Estimation of the camera motion from the optical flow.\n",
    "       \n",
    "6. Periodic repopulation of trackpoints to maintain coverage across the image."
   ]
  },
  {
   "cell_type": "code",
   "execution_count": 7,
   "metadata": {
    "collapsed": false
   },
   "outputs": [
    {
     "name": "stdout",
     "output_type": "stream",
     "text": [
      "kitti loaded.\n"
     ]
    }
   ],
   "source": [
    "################################KITTI Dataset################################\n",
    "#adapted from https://github.com/uoip/monoVO-python \n",
    "%run pinhole_camera.py\n",
    "\n",
    "##kitti setup\n",
    "poses_dir = 'dataset/poses/00.txt' #for ground truth\n",
    "img_dir = 'dataset/sequences/00/image_0/'\n",
    "cam = PinholeCamera(1241.0, 376.0, 718.8560, 718.8560, 607.1928, 185.2157)\n",
    "with open(poses_dir) as f: poses = f.readlines()#poses\n",
    "print \"kitti loaded.\""
   ]
  },
  {
   "cell_type": "code",
   "execution_count": 11,
   "metadata": {
    "collapsed": false
   },
   "outputs": [
    {
     "name": "stdout",
     "output_type": "stream",
     "text": [
      "16.5841912711\n",
      "100\n"
     ]
    },
    {
     "data": {
      "text/plain": [
       "-1"
      ]
     },
     "execution_count": 11,
     "metadata": {},
     "output_type": "execute_result"
    }
   ],
   "source": [
    "################################Visual Odometry################################\n",
    "\n",
    "vo = VisualOdometry(cam, poses_dir)\n",
    "\n",
    "traj = np.zeros((600,600,3), dtype=np.uint8)\n",
    "\n",
    "predicted, actual = [],[]\n",
    "# predicted = np.array(predicted)\n",
    "# actual = np.array(actual)\n",
    "\n",
    "five_fr= []\n",
    "thous_fr = []\n",
    "import time\n",
    "start = time.time()\n",
    "frames = 100\n",
    "#drawing trajectories for each frame starting form the 3rd\n",
    "for img_id in range(frames):\n",
    "    img = cv2.imread(img_dir+str(img_id).zfill(6)+'.png', 0)\n",
    "    \n",
    "    vo.update(img, img_id)\n",
    "\n",
    "    cur_t = vo.cur_t\n",
    "    \n",
    "    if(img_id > 2): \n",
    "        x, y, z = cur_t[0], cur_t[1], cur_t[2]\n",
    "    else: \n",
    "        x, y, z = 0., 0., 0.\n",
    "        \n",
    "    #offset so the 2 trajectories do not overlap\n",
    "    x_offset, y_offset = 0, 0\n",
    "    draw_x, draw_y = int(x)+(290-x_offset), int(z)+(90-y_offset)\n",
    "    true_x, true_y = int(vo.trueX)+290, int(vo.trueZ)+90\n",
    "    \n",
    "    #for drawing error line\n",
    "#     np.append(predicted,(x,y))\n",
    "#     np.append(actual, (vo.trueX, vo.trueY))\n",
    "\n",
    "    predicted.append((x,y))\n",
    "    actual.append((vo.trueX, vo.trueY))\n",
    "    \n",
    "    #openCV uses BGR colour schemes as tuples, e.g (255,0,0) is blue\n",
    "    #predicted trajectory in \n",
    "    cv2.circle(traj, (draw_x,draw_y), 1, (255,0,0), 1)\n",
    "    #actual trajectory\n",
    "    cv2.circle(traj, (true_x,true_y), 1, (0,0,255), 1)\n",
    "    \n",
    "    cv2.rectangle(traj, (10, 20), (600, 60), (0,0,0), -1)\n",
    "    text = \"Coordinates: x=%2fm y=%2fm z=%2fm\"%(x,y,z)\n",
    "    cv2.putText(traj, text, (20,40), cv2.FONT_HERSHEY_PLAIN, 1, (255,255,255), 1, 8)\n",
    "    frame = \"Frame: \" + str(img_id)\n",
    "    cv2.putText(traj, frame, (20,60), cv2.FONT_HERSHEY_PLAIN, 1, (255,255,255), 1, 8)\n",
    "    \n",
    "    sec = time.time()\n",
    "    curr_secs = sec - start\n",
    "    curr_fps = img_id/curr_secs\n",
    "    five_fr.append(curr_fps)\n",
    "    \n",
    "#     cv2.imshow('Road facing camera', img)\n",
    "#     cv2.imshow('Trajectory', traj)\n",
    "#     cv2.waitKey(1)\n",
    "\n",
    "end = time.time()\n",
    "seconds = end - start\n",
    "print frames/seconds\n",
    "print len(five_fr)\n",
    "# cv2.imwrite('map.png', traj)\n",
    "cv2.destroyAllWindows()\n",
    "cv2.waitKey(1)\n",
    "\n",
    "\n",
    "# error = np.mean( predicted != actual )\n",
    "\n",
    "# ss ="
   ]
  },
  {
   "cell_type": "code",
   "execution_count": 9,
   "metadata": {
    "collapsed": false
   },
   "outputs": [
    {
     "data": {
      "image/png": "[encoded data removed]",
      "text/plain": [
       "<matplotlib.figure.Figure at 0x6066dd8>"
      ]
     },
     "metadata": {},
     "output_type": "display_data"
    }
   ],
   "source": [
    "import matplotlib.pyplot as plt\n",
    "# plt.scatter(predicted, actual, color= 'black', label= 'Data') # plotting the initial datapoints \n",
    "\n",
    "plt.plot(np.abs(predicted), color= 'red', label= 'predicted') # plotting the line made by the RBF kernel\n",
    "plt.plot(np.abs(actual), color= 'green', label= 'actual')\n",
    "plt.xlabel('predicted')\n",
    "plt.ylabel('actual')\n",
    "plt.title('Line Disparity')\n",
    "plt.legend()\n",
    "plt.show()"
   ]
  },
  {
   "cell_type": "code",
   "execution_count": 10,
   "metadata": {
    "collapsed": false
   },
   "outputs": [
    {
     "ename": "KeyboardInterrupt",
     "evalue": "",
     "output_type": "error",
     "traceback": [
      "\u001b[0;31m---------------------------------------------------------------------------\u001b[0m",
      "\u001b[0;31mKeyboardInterrupt\u001b[0m                         Traceback (most recent call last)",
      "\u001b[0;32m<ipython-input-10-872402d78dc3>\u001b[0m in \u001b[0;36m<module>\u001b[0;34m()\u001b[0m\n\u001b[1;32m     11\u001b[0m     \u001b[0mvo\u001b[0m\u001b[1;33m.\u001b[0m\u001b[0mupdate\u001b[0m\u001b[1;33m(\u001b[0m\u001b[0mimg\u001b[0m\u001b[1;33m,\u001b[0m \u001b[0mimg_id\u001b[0m\u001b[1;33m)\u001b[0m\u001b[1;33m\u001b[0m\u001b[0m\n\u001b[1;32m     12\u001b[0m \u001b[1;33m\u001b[0m\u001b[0m\n\u001b[0;32m---> 13\u001b[0;31m     \u001b[0mcur_t\u001b[0m \u001b[1;33m=\u001b[0m \u001b[0mvo\u001b[0m\u001b[1;33m.\u001b[0m\u001b[0mcur_t\u001b[0m\u001b[1;33m\u001b[0m\u001b[0m\n\u001b[0m\u001b[1;32m     14\u001b[0m     \u001b[1;32mif\u001b[0m\u001b[1;33m(\u001b[0m\u001b[0mimg_id\u001b[0m \u001b[1;33m>\u001b[0m \u001b[1;36m2\u001b[0m\u001b[1;33m)\u001b[0m\u001b[1;33m:\u001b[0m\u001b[1;33m\u001b[0m\u001b[0m\n\u001b[1;32m     15\u001b[0m         \u001b[0mx\u001b[0m\u001b[1;33m,\u001b[0m \u001b[0my\u001b[0m\u001b[1;33m,\u001b[0m \u001b[0mz\u001b[0m \u001b[1;33m=\u001b[0m \u001b[0mcur_t\u001b[0m\u001b[1;33m[\u001b[0m\u001b[1;36m0\u001b[0m\u001b[1;33m]\u001b[0m\u001b[1;33m,\u001b[0m \u001b[0mcur_t\u001b[0m\u001b[1;33m[\u001b[0m\u001b[1;36m1\u001b[0m\u001b[1;33m]\u001b[0m\u001b[1;33m,\u001b[0m \u001b[0mcur_t\u001b[0m\u001b[1;33m[\u001b[0m\u001b[1;36m2\u001b[0m\u001b[1;33m]\u001b[0m\u001b[1;33m\u001b[0m\u001b[0m\n",
      "\u001b[0;31mKeyboardInterrupt\u001b[0m: "
     ]
    }
   ],
   "source": [
    "vo = VisualOdometry(cam, poses_dir)\n",
    "\n",
    "# ox_vo = VisualOdometry(ox_cam, poses_dir)\n",
    "\n",
    "traj = np.zeros((600,600,3), dtype=np.uint8)\n",
    "\n",
    "#drawing trajectories for each frame\n",
    "for img_id in range(5*500):\n",
    "    img = cv2.imread(img_dir+str(img_id).zfill(6)+'.png', 0)\n",
    "    \n",
    "    vo.update(img, img_id)\n",
    "\n",
    "    cur_t = vo.cur_t\n",
    "    if(img_id > 2): \n",
    "        x, y, z = cur_t[0], cur_t[1], cur_t[2]\n",
    "    else: \n",
    "        x, y, z = 0., 0., 0.\n",
    "                \n",
    "    #offset so the 2 trajectories do not overlap\n",
    "    x_offset, y_offset = 0, 0\n",
    "    draw_x, draw_y = int(x)+(290-x_offset), int(z)+(90-y_offset)\n",
    "    true_x, true_y = int(vo.trueX)+290, int(vo.trueZ)+90\n",
    "\n",
    "    #predicted trajectory\n",
    "    cv2.circle(traj, (draw_x,draw_y), 1, (0,255,0), 1)#cv2 works with BGR\n",
    "    #actual trajectory\n",
    "    cv2.circle(traj, (true_x,true_y), 1, (0,0,255), 1)\n",
    "    \n",
    "    cv2.rectangle(traj, (10, 20), (600, 60), (0,0,0), -1)\n",
    "    text = \"Coordinates: x=%2fm y=%2fm z=%2fm\"%(x,y,z)\n",
    "    cv2.putText(traj, text, (20,40), cv2.FONT_HERSHEY_PLAIN, 1, (255,255,255), 1, 8)\n",
    "    frame = \"Frame: \" + str(img_id)\n",
    "    cv2.putText(traj, frame, (20,60), cv2.FONT_HERSHEY_PLAIN, 1, (255,255,255), 1, 8)\n",
    "    \n",
    "    cv2.imshow('Road facing camera', img)\n",
    "    cv2.imshow('Trajectory', traj)\n",
    "    cv2.waitKey(1)\n",
    "\n",
    "\n",
    "cv2.imwrite('map.png', traj)\n",
    "cv2.destroyAllWindows()\n",
    "cv2.waitKey(1)"
   ]
  },
  {
   "cell_type": "code",
   "execution_count": 1,
   "metadata": {
    "collapsed": false
   },
   "outputs": [
    {
     "name": "stdout",
     "output_type": "stream",
     "text": [
      "kitti loaded.\n"
     ]
    }
   ],
   "source": [
    "################################KITTI Dataset################################\n",
    "\n",
    "#adapted from https://github.com/uoip/monoVO-python \n",
    "%run pinhole_camera.py\n",
    "\n",
    "##kitti setup\n",
    "poses_dir = 'dataset/poses/00.txt' #for ground truth\n",
    "img_dir = 'dataset/sequences/00/image_0/'\n",
    "cam = PinholeCamera(1241.0, 376.0, 718.8560, 718.8560, 607.1928, 185.2157)\n",
    "with open(poses_dir) as f: poses = f.readlines()#poses\n",
    "print \"kitti loaded.\""
   ]
  },
  {
   "cell_type": "code",
   "execution_count": null,
   "metadata": {
    "collapsed": true
   },
   "outputs": [],
   "source": [
    "##########################Adapting Existing Code################################"
   ]
  },
  {
   "cell_type": "code",
   "execution_count": 3,
   "metadata": {
    "collapsed": false
   },
   "outputs": [],
   "source": [
    "import cv2\n",
    "#adapted from https://github.com/avisingh599/mono-vo\n",
    "def track_features(img1, img2, points1):\n",
    "    #lucas kanade(lk) optical flow parameters\n",
    "    lk_params = dict(winSize  = (21, 21), \n",
    "                criteria = (cv2.TERM_CRITERIA_EPS | cv2.TERM_CRITERIA_COUNT, 30, 0.01))\n",
    "    \n",
    "    #open cv method for generating LK optical flow\n",
    "    points2, status, errs = cv2.calcOpticalFlowPyrLK(img1, img2, points1, None, **lk_params)\n",
    "    status = status.reshape(status.shape[0])\n",
    "    \n",
    "    return points1[status==1], points2[status==1]    \n",
    "\n",
    "def detect_features(img):\n",
    "    #detector parameters\n",
    "    threshold_value = 20\n",
    "    nonMax = True\n",
    "    \n",
    "    features = cv2.FastFeatureDetector_create(\n",
    "        threshold=threshold_value, \n",
    "        nonmaxSuppression=nonMax)\n",
    "    \n",
    "    return features.detect(img)\n",
    "\n",
    "def getAbsoluteScale(frame_id, poses):  #adapted for KITTI odometry dataset\n",
    "        ground_truth = poses[frame_id-1].strip().split()\n",
    "        x_prev, y_prev, z_prev = float(ground_truth[3]), float(ground_truth[7]), float(ground_truth[11])\n",
    "        \n",
    "        ground_truth = poses[frame_id].strip().split()\n",
    "        x, y, z = float(ground_truth[3]), float(ground_truth[7]), float(ground_truth[11])\n",
    "        \n",
    "        return np.sqrt((x - x_prev)*(x - x_prev) + \n",
    "                       (y - y_prev)*(y - y_prev) + \n",
    "                       (z - z_prev)*(z - z_prev))"
   ]
  },
  {
   "cell_type": "code",
   "execution_count": 16,
   "metadata": {
    "collapsed": false
   },
   "outputs": [
    {
     "name": "stdout",
     "output_type": "stream",
     "text": [
      "done\n"
     ]
    }
   ],
   "source": [
    "MAX_FRAME = 1000\n",
    "MIN_FEATURES = 2000\n",
    "\n",
    "#first 2 frames\n",
    "img1 = cv2.imread(img_dir+'000000.png')\n",
    "img2 = cv2.imread(img_dir+'000001.png')\n",
    "\n",
    "#feature detection and tracking\n",
    "key_points1 = detect_features(img1)\n",
    "#x.pt is an interface feature of cv2 Keypoints, x.kp are keypoint coordinates\n",
    "#source: https://goo.gl/59X81j\n",
    "key_points1 = np.array([x.pt for x in key_points1], dtype=np.float32)\n",
    "key_points1, key_points2 = track_features(img1, img2, key_points1)\n",
    "\n",
    "#camera focal length and principle point\n",
    "focal, pp = 718.8560, (607.1928, 185.2157)\n",
    "\n",
    "#finding the essential matrix\n",
    "essential_matrix,mask = cv2.findEssentialMat(\n",
    "                    key_points1, \n",
    "                    key_points2, \n",
    "                    focal=focal, \n",
    "                    pp=pp, \n",
    "                    method=cv2.RANSAC, \n",
    "                    prob=0.999, \n",
    "                    threshold=1.0)\n",
    "\n",
    "#recovering the pose and storing the results\n",
    "#as (R)otational and (t)ranslational matrices\n",
    "_, R, t, mask = cv2.recoverPose(\n",
    "                essential_matrix,\n",
    "                key_points1,\n",
    "                key_points2,\n",
    "                focal=focal,\n",
    "                pp=pp)\n",
    "\n",
    "\n",
    "prev_img = img2\n",
    "curr_img = img2#placeholder to keep format \n",
    "prev_features = key_points2\n",
    "curr_features = key_points2#placeholder to keep format\n",
    "\n",
    "curr_R = np.copy(R)\n",
    "curr_t = np.copy(t)\n",
    "\n",
    "traj = np.zeros((600,600,3), dtype=np.uint8)\n",
    "\n",
    "#performing the visual odometry and drawing trajectories for each frame\n",
    "for img_id in range(1000):\n",
    "    img = cv2.imread(img_dir+str(img_id).zfill(6)+'.png')\n",
    "    \n",
    "    prev_features, curr_features = track_features(prev_img, curr_img, key_points1)\n",
    "    \n",
    "    matrix,mask = cv2.findEssentialMat(curr_features,prev_features,focal,pp,cv2.RANSAC,0.999,1.0,mask)\n",
    "    \n",
    "    _, R, t, mask = cv2.recoverPose(matrix,key_points1,key_points2,focal=focal,pp=pp)\n",
    "\n",
    "    prev_pts = np.zeros((len(prev_features),2), dtype=np.complex64)\n",
    "    curr_pts = np.zeros((len(curr_features),2), dtype=np.complex64)\n",
    "\n",
    "    for i in range(len(prev_features)):\n",
    "        prev_pts[i][0] = prev_features[i][0]\n",
    "        prev_pts[i][1] = prev_features[i][1]\n",
    "\n",
    "        curr_pts[i][0] = curr_features[i][0]\n",
    "        curr_pts[i][1] = curr_features[i][1]\n",
    "\n",
    "    scale = getAbsoluteScale(img_id, poses)\n",
    "    \n",
    "    con2,con3 = (t[2] > t[0]),(t[2] > t[1])\n",
    "    if ((scale>0.1) and con2 and con3):\n",
    "        curr_R = R.dot(curr_R)\n",
    "        curr_t += scale*(curr_R.dot(t))\n",
    "        \n",
    "    #redetect if num features falls below the threshold\n",
    "    if(len(prev_features) < MIN_FEATURES):\n",
    "        key_points1 = detect_features(img1)\n",
    "        key_points1, key_points2 = track_features(img1, img2, key_points1)\n",
    "    \n",
    "    prev_img = np.copy(curr_img)\n",
    "    prev_features = curr_features\n",
    "    \n",
    "\n",
    "    #offset so the 2 trajectories to control the overlap at start\n",
    "    x_offset, y_offset = 0, 0\n",
    "    if(img_id > 2): \n",
    "        x, y, z = curr_t[0] + (290-x_offset), curr_t[1] + (90-y_offset), curr_t[2]\n",
    "    else: \n",
    "        x, y, z = 0., 0., 0.\n",
    "        \n",
    "    draw_x, draw_y = int(x), int(z)\n",
    "#     true_x, true_y = int(vo.trueX)+290, int(vo.trueZ)+90\n",
    "\n",
    "    #predicted trajectory\n",
    "    cv2.circle(traj, (draw_x,draw_y), 1, (img_id*255/4540,255-img_id*255/4540,0), 1)\n",
    "    #actual trajectory\n",
    "#     cv2.circle(traj, (true_x,true_y), 1, (0,0,255), 1)\n",
    "    \n",
    "    cv2.rectangle(traj, (10, 20), (600, 60), (0,0,0), -1)\n",
    "    text = \"Coordinates: x=%2fm y=%2fm z=%2fm\"%(x,y,z)\n",
    "    cv2.putText(traj, text, (20,40), cv2.FONT_HERSHEY_PLAIN, 1, (255,255,255), 1, 8)\n",
    "    frame = \"Frame: \" + str(img_id)\n",
    "    cv2.putText(traj, frame, (20,60), cv2.FONT_HERSHEY_PLAIN, 1, (255,255,255), 1, 8)\n",
    "    \n",
    "    cv2.imshow('Road facing camera', img)\n",
    "    cv2.imshow('Trajectory', traj)\n",
    "    cv2.waitKey(1)\n",
    "    \n",
    "cv2.destroyAllWindows()\n",
    "cv2.waitKey(1)\n",
    "        \n",
    "print 'done'"
   ]
  },
  {
   "cell_type": "code",
   "execution_count": null,
   "metadata": {
    "collapsed": true
   },
   "outputs": [],
   "source": [
    "################################Oxford Dataset################################\n",
    "%run robotcar-sdk/python/camera_model.py\n",
    "from skimage.io import imread_collection\n",
    "\n",
    "#oxford(ox) setup\n",
    "models_dir = 'robotcar-sdk/models'\n",
    "ox_img_dir = 'oxford_2014-05-14-13-50-20/stereo/left/'\n",
    "ox_cam = CameraModel(models_dir,ox_img_dir)\n",
    "ox_imgs = imread_collection(ox_img_dir+'*.png', conserve_memory = True)\n",
    "# ox_imgs = np.array(ox_imgs)\n",
    "print \"ox loaded.\""
   ]
  }
 ],
 "metadata": {
  "anaconda-cloud": {},
  "kernelspec": {
   "display_name": "Python [conda root]",
   "language": "python",
   "name": "conda-root-py"
  },
  "language_info": {
   "codemirror_mode": {
    "name": "ipython",
    "version": 2
   },
   "file_extension": ".py",
   "mimetype": "text/x-python",
   "name": "python",
   "nbconvert_exporter": "python",
   "pygments_lexer": "ipython2",
   "version": "2.7.12"
  }
 },
 "nbformat": 4,
 "nbformat_minor": 1
}
